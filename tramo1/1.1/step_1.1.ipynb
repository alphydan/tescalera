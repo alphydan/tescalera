{
 "cells": [
  {
   "cell_type": "markdown",
   "metadata": {},
   "source": [
    "# Plain Tile\n",
    "\n",
    "No holes or cuts.\n"
   ]
  },
  {
   "cell_type": "code",
   "execution_count": 2,
   "metadata": {},
   "outputs": [],
   "source": [
    "# Imports\n",
    "import math\n",
    "\n",
    "from shapely.geometry import Polygon, box\n",
    "from shapely import affinity, centroid, polygons\n",
    "\n",
    "import svgwrite\n",
    "from svgwrite import mm\n",
    "\n",
    "import matplotlib.pyplot as plt\n",
    "import numpy as np"
   ]
  },
  {
   "cell_type": "markdown",
   "metadata": {},
   "source": [
    "### Canvas and Polygon sizes\n",
    "\n",
    "SIZE OF TILE TBD. (Height of floor not known yet)"
   ]
  },
  {
   "cell_type": "code",
   "execution_count": 3,
   "metadata": {},
   "outputs": [],
   "source": [
    "# DRAWING PARAMS:\n",
    "drawing_height = 300\n",
    "drawing_width = 1200\n",
    "tabica_height = 100\n",
    "tabica_width = 905\n",
    "\n",
    "INSET_RATIO = 0.9\n"
   ]
  },
  {
   "cell_type": "markdown",
   "metadata": {},
   "source": [
    "# FRAME\n",
    "\n",
    "The frame defines the rectangle that will become the cut sheet metal.\n",
    "We want to delete polygons outside of this frame, and potentially \"trim\" some of the polygons at the edges,\n",
    "to ensure the sheet metal can we welded robustly to the next piece."
   ]
  },
  {
   "cell_type": "code",
   "execution_count": 4,
   "metadata": {},
   "outputs": [],
   "source": [
    "frame = polygons([[0,0],\n",
    "                  [0 + tabica_width, 0],\n",
    "                  [0 + tabica_width, 0 + tabica_height],\n",
    "                  [0, 0 + tabica_height]])"
   ]
  }
 ],
 "metadata": {
  "kernelspec": {
   "display_name": ".venv",
   "language": "python",
   "name": "python3"
  },
  "language_info": {
   "codemirror_mode": {
    "name": "ipython",
    "version": 3
   },
   "file_extension": ".py",
   "mimetype": "text/x-python",
   "name": "python",
   "nbconvert_exporter": "python",
   "pygments_lexer": "ipython3",
   "version": "3.12.3"
  }
 },
 "nbformat": 4,
 "nbformat_minor": 2
}
