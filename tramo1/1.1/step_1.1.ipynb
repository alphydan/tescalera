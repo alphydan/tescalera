{
 "cells": [
  {
   "cell_type": "markdown",
   "metadata": {},
   "source": [
    "# Plain Tile\n",
    "\n",
    "No holes or cuts.\n"
   ]
  },
  {
   "cell_type": "code",
   "execution_count": 1,
   "metadata": {},
   "outputs": [],
   "source": [
    "# Imports\n",
    "import math\n",
    "\n",
    "from shapely.geometry import Polygon, box\n",
    "from shapely import affinity, centroid, polygons\n",
    "\n",
    "import svgwrite\n",
    "from svgwrite import mm\n",
    "\n",
    "import matplotlib.pyplot as plt\n",
    "import numpy as np"
   ]
  },
  {
   "cell_type": "code",
   "execution_count": 6,
   "metadata": {},
   "outputs": [],
   "source": [
    "import sys\n",
    "sys.path.append('../..')  # Add the parent directory to Python path\n",
    "from polygon_utils import (\n",
    "    create_regular_polygon,\n",
    "    plot_polygon_dict,\n",
    "    plot_polygon_list,\n",
    "    blue_plot,\n",
    "    center_rectangle_on_polygons,\n",
    "    is_polygon_inside_frame,\n",
    "    save_polygon_list_to_svg\n",
    ")"
   ]
  },
  {
   "cell_type": "markdown",
   "metadata": {},
   "source": [
    "### Canvas and Polygon sizes\n",
    "\n",
    "SIZE OF TILE TBD. (Height of floor not known yet)"
   ]
  },
  {
   "cell_type": "code",
   "execution_count": 18,
   "metadata": {},
   "outputs": [],
   "source": [
    "# DRAWING PARAMS:\n",
    "drawing_height = 300\n",
    "drawing_width = 1200\n",
    "tabica_height = 174 - 0.5\n",
    "tabica_width = 905 - 0.5\n",
    "\n",
    "INSET_RATIO = 0.9\n"
   ]
  },
  {
   "cell_type": "markdown",
   "metadata": {},
   "source": [
    "# FRAME\n",
    "\n",
    "The frame defines the rectangle that will become the cut sheet metal.\n",
    "We want to delete polygons outside of this frame, and potentially \"trim\" some of the polygons at the edges,\n",
    "to ensure the sheet metal can we welded robustly to the next piece."
   ]
  },
  {
   "cell_type": "code",
   "execution_count": 19,
   "metadata": {},
   "outputs": [],
   "source": [
    "frame = [polygons([[0,0],\n",
    "                  [0 + tabica_width, 0],\n",
    "                  [0 + tabica_width, 0 + tabica_height],\n",
    "                  [0, 0 + tabica_height]])]"
   ]
  },
  {
   "cell_type": "code",
   "execution_count": 20,
   "metadata": {},
   "outputs": [],
   "source": [
    "save_polygon_list_to_svg(frame, filename='tramo1.1_corte.svg')"
   ]
  },
  {
   "cell_type": "code",
   "execution_count": null,
   "metadata": {},
   "outputs": [],
   "source": []
  }
 ],
 "metadata": {
  "kernelspec": {
   "display_name": ".venv",
   "language": "python",
   "name": "python3"
  },
  "language_info": {
   "codemirror_mode": {
    "name": "ipython",
    "version": 3
   },
   "file_extension": ".py",
   "mimetype": "text/x-python",
   "name": "python",
   "nbconvert_exporter": "python",
   "pygments_lexer": "ipython3",
   "version": "3.12.3"
  }
 },
 "nbformat": 4,
 "nbformat_minor": 2
}
